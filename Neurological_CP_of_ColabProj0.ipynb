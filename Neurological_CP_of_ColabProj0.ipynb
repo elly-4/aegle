{
  "nbformat": 4,
  "nbformat_minor": 0,
  "metadata": {
    "colab": {
      "name": "Neurological CP of ColabProj0.ipynb",
      "provenance": [],
      "collapsed_sections": [
        "qwyPZFQOXI3f",
        "SRI_1vmT8EYD"
      ],
      "authorship_tag": "ABX9TyMfb6Cz4fFp8/G3p0S3djpZ",
      "include_colab_link": true
    },
    "kernelspec": {
      "name": "python3",
      "display_name": "Python 3"
    },
    "language_info": {
      "name": "python"
    },
    "accelerator": "GPU"
  },
  "cells": [
    {
      "cell_type": "markdown",
      "metadata": {
        "id": "view-in-github",
        "colab_type": "text"
      },
      "source": [
        "<a href=\"https://colab.research.google.com/github/elly-4/aegle/blob/master/Neurological_CP_of_ColabProj0.ipynb\" target=\"_parent\"><img src=\"https://colab.research.google.com/assets/colab-badge.svg\" alt=\"Open In Colab\"/></a>"
      ]
    },
    {
      "cell_type": "markdown",
      "metadata": {
        "id": "qwyPZFQOXI3f"
      },
      "source": [
        "## **Install and Import dependencies**"
      ]
    },
    {
      "cell_type": "code",
      "metadata": {
        "id": "IiKabsLsWCEz"
      },
      "source": [
        "!pip install mediapipe opencv-python\n"
      ],
      "execution_count": null,
      "outputs": []
    },
    {
      "cell_type": "code",
      "metadata": {
        "id": "KxOTn5-HdhR0"
      },
      "source": [
        "!pip install opencv-python"
      ],
      "execution_count": null,
      "outputs": []
    },
    {
      "cell_type": "code",
      "metadata": {
        "id": "2ujXO3kTWOPB"
      },
      "source": [
        "import cv2\n",
        "import mediapipe as mp\n",
        "from IPython.display import display, Javascript\n",
        "from google.colab.output import eval_js\n",
        "from base64 import b64decode\n",
        "import cv2\n",
        "import numpy as np\n",
        "import PIL\n",
        "import io\n",
        "import html\n",
        "import time\n",
        "from google.colab.patches import cv2_imshow\n"
      ],
      "execution_count": null,
      "outputs": []
    },
    {
      "cell_type": "code",
      "metadata": {
        "id": "rHFbvO-3WWln"
      },
      "source": [
        "mp_drawing = mp.solutions.drawing_utils\n",
        "mp_holistic = mp.solutions.holistic\n"
      ],
      "execution_count": null,
      "outputs": []
    },
    {
      "cell_type": "markdown",
      "metadata": {
        "id": "oqV7BNWdXQkm"
      },
      "source": [
        "**Get Realtime Webcam Feed**"
      ]
    },
    {
      "cell_type": "code",
      "metadata": {
        "id": "weQ0Uo5G-PbT"
      },
      "source": [
        "# function to convert the JavaScript object into an OpenCV image\n",
        "def js_to_image(js_reply):\n",
        "  \"\"\"\n",
        "  Params:\n",
        "          js_reply: JavaScript object containing image from webcam\n",
        "  Returns:\n",
        "          img: OpenCV BGR image\n",
        "  \"\"\"\n",
        "  # decode base64 image\n",
        "  image_bytes = b64decode(js_reply.split(',')[1])\n",
        "  # convert bytes to numpy array\n",
        "  jpg_as_np = np.frombuffer(image_bytes, dtype=np.uint8)\n",
        "  # decode numpy array into OpenCV BGR image\n",
        "  img = cv2.imdecode(jpg_as_np, flags=1)\n",
        "\n",
        "  return img"
      ],
      "execution_count": null,
      "outputs": []
    },
    {
      "cell_type": "markdown",
      "metadata": {
        "id": "SRI_1vmT8EYD"
      },
      "source": [
        "## **Xtremely long video capture code**"
      ]
    },
    {
      "cell_type": "code",
      "metadata": {
        "id": "kFKL_X7o460b"
      },
      "source": [
        "# JavaScript to properly create our live video stream using our webcam as input\n",
        "def video_stream():\n",
        "  js = Javascript('''\n",
        "    var video;\n",
        "    var div = null;\n",
        "    var stream;\n",
        "    var captureCanvas;\n",
        "    var imgElement;\n",
        "    var labelElement;\n",
        "    \n",
        "    var pendingResolve = null;\n",
        "    var shutdown = false;\n",
        "    \n",
        "    function removeDom() {\n",
        "       stream.getVideoTracks()[0].stop();\n",
        "       video.remove();\n",
        "       div.remove();\n",
        "       video = null;\n",
        "       div = null;\n",
        "       stream = null;\n",
        "       imgElement = null;\n",
        "       captureCanvas = null;\n",
        "       labelElement = null;\n",
        "    }\n",
        "    \n",
        "    function onAnimationFrame() {\n",
        "      if (!shutdown) {\n",
        "        window.requestAnimationFrame(onAnimationFrame);\n",
        "      }\n",
        "      if (pendingResolve) {\n",
        "        var result = \"\";\n",
        "        if (!shutdown) {\n",
        "          captureCanvas.getContext('2d').drawImage(video, 0, 0, 640, 480);\n",
        "          result = captureCanvas.toDataURL('image/jpeg', 0.8)\n",
        "        }\n",
        "        var lp = pendingResolve;\n",
        "        pendingResolve = null;\n",
        "        lp(result);\n",
        "      }\n",
        "    }\n",
        "    \n",
        "    async function createDom() {\n",
        "      if (div !== null) {\n",
        "        return stream;\n",
        "      }\n",
        "\n",
        "      div = document.createElement('div');\n",
        "      div.style.border = '2px solid black';\n",
        "      div.style.padding = '3px';\n",
        "      div.style.width = '100%';\n",
        "      div.style.maxWidth = '600px';\n",
        "      document.body.appendChild(div);\n",
        "      \n",
        "      const modelOut = document.createElement('div');\n",
        "      modelOut.innerHTML = \"<span>Status:</span>\";\n",
        "      labelElement = document.createElement('span');\n",
        "      labelElement.innerText = 'No data';\n",
        "      labelElement.style.fontWeight = 'bold';\n",
        "      modelOut.appendChild(labelElement);\n",
        "      div.appendChild(modelOut);\n",
        "           \n",
        "      video = document.createElement('video');\n",
        "      video.style.display = 'block';\n",
        "      video.width = div.clientWidth - 6;\n",
        "      video.setAttribute('playsinline', '');\n",
        "      video.onclick = () => { shutdown = true; };\n",
        "      stream = await navigator.mediaDevices.getUserMedia(\n",
        "          {video: { facingMode: \"environment\"}});\n",
        "      div.appendChild(video);\n",
        "\n",
        "      imgElement = document.createElement('img');\n",
        "      imgElement.style.position = 'absolute';\n",
        "      imgElement.style.zIndex = 1;\n",
        "      imgElement.onclick = () => { shutdown = true; };\n",
        "      div.appendChild(imgElement);\n",
        "      \n",
        "      const instruction = document.createElement('div');\n",
        "      instruction.innerHTML = \n",
        "          '<span style=\"color: red; font-weight: bold;\">' +\n",
        "          'When finished, click here or on the video to stop this demo</span>';\n",
        "      div.appendChild(instruction);\n",
        "      instruction.onclick = () => { shutdown = true; };\n",
        "      \n",
        "      video.srcObject = stream;\n",
        "      await video.play();\n",
        "\n",
        "      captureCanvas = document.createElement('canvas');\n",
        "      captureCanvas.width = 640; //video.videoWidth;\n",
        "      captureCanvas.height = 480; //video.videoHeight;\n",
        "      window.requestAnimationFrame(onAnimationFrame);\n",
        "      \n",
        "      return stream;\n",
        "    }\n",
        "    async function stream_frame(label, imgData) {\n",
        "      if (shutdown) {\n",
        "        removeDom();\n",
        "        shutdown = false;\n",
        "        return '';\n",
        "      }\n",
        "\n",
        "      var preCreate = Date.now();\n",
        "      stream = await createDom();\n",
        "      \n",
        "      var preShow = Date.now();\n",
        "      if (label != \"\") {\n",
        "        labelElement.innerHTML = label;\n",
        "      }\n",
        "            \n",
        "      if (imgData != \"\") {\n",
        "        var videoRect = video.getClientRects()[0];\n",
        "        imgElement.style.top = videoRect.top + \"px\";\n",
        "        imgElement.style.left = videoRect.left + \"px\";\n",
        "        imgElement.style.width = videoRect.width + \"px\";\n",
        "        imgElement.style.height = videoRect.height + \"px\";\n",
        "        imgElement.src = imgData;\n",
        "      }\n",
        "      \n",
        "      var preCapture = Date.now();\n",
        "      var result = await new Promise(function(resolve, reject) {\n",
        "        pendingResolve = resolve;\n",
        "      });\n",
        "      shutdown = false;\n",
        "      \n",
        "      return {'create': preShow - preCreate, \n",
        "              'show': preCapture - preShow, \n",
        "              'capture': Date.now() - preCapture,\n",
        "              'img': result};\n",
        "    }\n",
        "    ''')\n",
        "\n",
        "  display(js)\n",
        "  \n",
        "def video_frame(label_html, bbox ):\n",
        "  data = eval_js('stream_frame(\"{}\", \"{}\")'.format(label_html, bbox))\n",
        "  return data"
      ],
      "execution_count": null,
      "outputs": []
    },
    {
      "cell_type": "markdown",
      "metadata": {
        "id": "8mgjqflR8LcG"
      },
      "source": [
        "## **Calling the video function**"
      ]
    },
    {
      "cell_type": "code",
      "metadata": {
        "id": "qHVBINSOsbK1"
      },
      "source": [
        "# start streaming video from webcam\n",
        "video_stream()\n",
        "\n",
        "# # label for video\n",
        "label_html = 'Capturing...' \n",
        "# initialze bounding box to empty\n",
        "bbox = ''\n",
        "count = 0 \n",
        "# image = '' \n",
        "\n",
        "#Intiate holistic model\n",
        "with mp_holistic.Holistic(min_detection_confidence=0.5, min_tracking_confidence=0.5) as holistic:\n",
        "  while True:\n",
        "      js_reply = video_frame(label_html, bbox )\n",
        "    \n",
        "      if not js_reply:\n",
        "          break\n",
        "\n",
        "      # convert JS response to OpenCV Image\n",
        "      img = js_to_image(js_reply[\"img\"])\n",
        "\n",
        "      #Recolour feed\n",
        "      image = cv2.cvtColor(img, cv2.COLOR_BGR2RGB)\n",
        "\n",
        "      #Make Detections\n",
        "      results = holistic.process(image)\n",
        "      print(results.face_landmarks)\n",
        "\n",
        "      #face_Landmarks, pose_Landmarks, left_Landmarks, right_Landmarks\n",
        "\n",
        "      #Recolor image back ot BGR for Rendering \n",
        "      image = cv2.cvtColor(img, cv2.COLOR_RGB2BGR)\n",
        "\n",
        "      #Draw Face landmarks \n",
        "      # mp_drawing.draw_landmarks(image, results.face_landmarks, mp_holistic.FACE_CONNECTIONS)\n",
        "\n",
        "      #Right hand \n",
        "      mp_drawing.draw_landmarks(image, results.right_hand_landmarks, mp_holistic.HAND_CONNECTIONS)\n",
        "\n",
        "      #Left hand\n",
        "      mp_drawing.draw_landmarks(image, results.left_hand_landmarks, mp_holistic.HAND_CONNECTIONS)\n",
        "\n",
        "      # Pose Detections\n",
        "      mp_drawing.draw_landmarks(image, results.pose_landmarks, mp_holistic.POSE_CONNECTIONS)\n",
        "     \n",
        "      cv2_imshow(image)"
      ],
      "execution_count": null,
      "outputs": []
    },
    {
      "cell_type": "code",
      "metadata": {
        "id": "WL7saUfiNcKI"
      },
      "source": [
        "\n",
        "results.face_landmarks.landmark[0].visibility"
      ],
      "execution_count": null,
      "outputs": []
    },
    {
      "cell_type": "markdown",
      "metadata": {
        "id": "NF3Pw2qeolQN"
      },
      "source": [
        "## 2. **Capture Landmarks & Export to CSV** "
      ]
    },
    {
      "cell_type": "code",
      "metadata": {
        "id": "L3CCptzVohn9"
      },
      "source": [
        "import csv\n",
        "import os\n",
        "import numpy as np\n"
      ],
      "execution_count": null,
      "outputs": []
    },
    {
      "cell_type": "code",
      "metadata": {
        "colab": {
          "base_uri": "https://localhost:8080/"
        },
        "id": "_gyRNMSNotb6",
        "outputId": "a44579a5-2ac9-468d-d02b-e2f930574b41"
      },
      "source": [
        "num_coords = len(results.pose_landmarks.landmark)+len(results.face_landmarks.landmark)\n",
        "num_coords"
      ],
      "execution_count": null,
      "outputs": [
        {
          "output_type": "execute_result",
          "data": {
            "text/plain": [
              "501"
            ]
          },
          "metadata": {
            "tags": []
          },
          "execution_count": 11
        }
      ]
    },
    {
      "cell_type": "code",
      "metadata": {
        "id": "eCDzfy1fovaS"
      },
      "source": [
        "landmarks = ['class']\n",
        "for val in range(1, num_coords+1):\n",
        "    landmarks += ['x{}'.format(val), 'y{}'.format(val), 'z{}'.format(val), 'v{}'.format(val)]"
      ],
      "execution_count": null,
      "outputs": []
    },
    {
      "cell_type": "markdown",
      "metadata": {
        "id": "9QWhc5L3u3ES"
      },
      "source": [
        "### **landmarks**"
      ]
    },
    {
      "cell_type": "code",
      "metadata": {
        "id": "RirYFEWVoyJY"
      },
      "source": [
        "landmarks"
      ],
      "execution_count": null,
      "outputs": []
    },
    {
      "cell_type": "code",
      "metadata": {
        "id": "9fxdsinro0Ke"
      },
      "source": [
        "with open('coords.csv', mode='w', newline='') as f:\n",
        "    csv_writer = csv.writer(f, delimiter=',', quotechar='\"', quoting=csv.QUOTE_MINIMAL)\n",
        "    csv_writer.writerow(landmarks)"
      ],
      "execution_count": null,
      "outputs": []
    },
    {
      "cell_type": "markdown",
      "metadata": {
        "id": "UcZ23q2Yu80U"
      },
      "source": [
        "### **ClassName Set**"
      ]
    },
    {
      "cell_type": "code",
      "metadata": {
        "id": "gEzz1Tlyo2Qa"
      },
      "source": [
        "\n",
        "class_name = \"HipAbductors3\""
      ],
      "execution_count": null,
      "outputs": []
    },
    {
      "cell_type": "code",
      "metadata": {
        "id": "PLCPTkuGo4so"
      },
      "source": [
        "# start streaming video from webcam\n",
        "video_stream()\n",
        "\n",
        "# # label for video\n",
        "label_html = 'Capturing...' \n",
        "# initialze bounding box to empty\n",
        "bbox = ''\n",
        "count = 0 \n",
        "# image = '' \n",
        "\n",
        "#Intiate holistic model\n",
        "with mp_holistic.Holistic(min_detection_confidence=0.5, min_tracking_confidence=0.5) as holistic:\n",
        "  while True:\n",
        "      js_reply = video_frame(label_html, bbox )\n",
        "    \n",
        "      if not js_reply:\n",
        "       break\n",
        "\n",
        "      # convert JS response to OpenCV Image\n",
        "      img = js_to_image(js_reply[\"img\"])\n",
        "\n",
        "      #Recolour feed\n",
        "      image = cv2.cvtColor(img, cv2.COLOR_BGR2RGB)\n",
        "\n",
        "      #Make Detections\n",
        "      results = holistic.process(image)\n",
        "      print(results.face_landmarks)\n",
        "\n",
        "      #face_Landmarks, pose_Landmarks, left_Landmarks, right_Landmarks\n",
        "\n",
        "      #Recolor image back ot BGR for Rendering \n",
        "      image = cv2.cvtColor(img, cv2.COLOR_RGB2BGR)\n",
        "\n",
        "      #Draw Face landmarks \n",
        "      # mp_drawing.draw_landmarks(image, results.face_landmarks, mp_holistic.FACE_CONNECTIONS)\n",
        "\n",
        "      #Right hand \n",
        "      mp_drawing.draw_landmarks(image, results.right_hand_landmarks, mp_holistic.HAND_CONNECTIONS)\n",
        "\n",
        "      #Left hand\n",
        "      mp_drawing.draw_landmarks(image, results.left_hand_landmarks, mp_holistic.HAND_CONNECTIONS)\n",
        "      # 4. Pose Detections\n",
        "      mp_drawing.draw_landmarks(image, results.pose_landmarks, mp_holistic.POSE_CONNECTIONS)\n",
        "      # Export coordinates\n",
        "      try:\n",
        "            # Extract Pose landmarks\n",
        "            pose = results.pose_landmarks.landmark\n",
        "            pose_row = list(np.array([[landmark.x, landmark.y, landmark.z, landmark.visibility] for landmark in pose]).flatten())\n",
        "            \n",
        "            # Extract Face landmarks\n",
        "            face = results.face_landmarks.landmark\n",
        "            face_row = list(np.array([[landmark.x, landmark.y, landmark.z, landmark.visibility] for landmark in face]).flatten())\n",
        "            \n",
        "            # Concate rows\n",
        "            row = pose_row+face_row\n",
        "            \n",
        "            # Append class name \n",
        "            row.insert(0, class_name)\n",
        "            \n",
        "            # Export to CSV\n",
        "            with open('coords.csv', mode='a', newline='') as f:\n",
        "                csv_writer = csv.writer(f, delimiter=',', quotechar='\"', quoting=csv.QUOTE_MINIMAL)\n",
        "                csv_writer.writerow(row) \n",
        "            \n",
        "      except:\n",
        "            pass\n",
        "\n",
        "    \n",
        "      cv2_imshow(image)\n",
        " "
      ],
      "execution_count": null,
      "outputs": []
    },
    {
      "cell_type": "markdown",
      "metadata": {
        "id": "19JM0YJW8m_6"
      },
      "source": [
        "## **3. Train Custom Model Using Scikit Learn**"
      ]
    },
    {
      "cell_type": "markdown",
      "metadata": {
        "id": "s-3Uc6dh9y_D"
      },
      "source": [
        "### **3.1 Read in Collected Data and Process**"
      ]
    },
    {
      "cell_type": "code",
      "metadata": {
        "id": "Cdt_Q0l08q-h"
      },
      "source": [
        "import pandas as pd\n",
        "from sklearn.model_selection import train_test_split"
      ],
      "execution_count": null,
      "outputs": []
    },
    {
      "cell_type": "code",
      "metadata": {
        "id": "cC2xsp7_84z-"
      },
      "source": [
        "df = pd.read_csv('coords.csv')"
      ],
      "execution_count": null,
      "outputs": []
    },
    {
      "cell_type": "code",
      "metadata": {
        "id": "sYocvhAE86SC"
      },
      "source": [
        "df.head()"
      ],
      "execution_count": null,
      "outputs": []
    },
    {
      "cell_type": "code",
      "metadata": {
        "id": "S17Go6Z48769"
      },
      "source": [
        "df.tail()"
      ],
      "execution_count": null,
      "outputs": []
    },
    {
      "cell_type": "code",
      "metadata": {
        "id": "iCJyqZm489OC"
      },
      "source": [
        "df[df['class']=='FacialAppearanceScore0']"
      ],
      "execution_count": null,
      "outputs": []
    },
    {
      "cell_type": "code",
      "metadata": {
        "id": "8tSAVAR78_qi"
      },
      "source": [
        "X = df.drop('class', axis=1) # features\n",
        "y = df['class'] # target value"
      ],
      "execution_count": null,
      "outputs": []
    },
    {
      "cell_type": "code",
      "metadata": {
        "id": "2CdF0Ic29AGs"
      },
      "source": [
        "X_train, X_test, y_train, y_test = train_test_split(X, y, test_size=0.3, random_state=1234)"
      ],
      "execution_count": null,
      "outputs": []
    },
    {
      "cell_type": "code",
      "metadata": {
        "id": "BLgH3VrX9CCt"
      },
      "source": [
        "y_test"
      ],
      "execution_count": null,
      "outputs": []
    },
    {
      "cell_type": "markdown",
      "metadata": {
        "id": "3wPKRj40-AaA"
      },
      "source": [
        "### **3.2 Train Machine Learning Classification Model**"
      ]
    },
    {
      "cell_type": "code",
      "metadata": {
        "id": "pidI1Moa-Fbm"
      },
      "source": [
        "from sklearn.pipeline import make_pipeline \n",
        "from sklearn.preprocessing import StandardScaler \n",
        "\n",
        "from sklearn.linear_model import LogisticRegression, RidgeClassifier\n",
        "from sklearn.ensemble import RandomForestClassifier, GradientBoostingClassifier"
      ],
      "execution_count": null,
      "outputs": []
    },
    {
      "cell_type": "code",
      "metadata": {
        "id": "oC62It9--H0U"
      },
      "source": [
        "pipelines = {\n",
        "    'lr':make_pipeline(StandardScaler(), LogisticRegression()),\n",
        "    'rc':make_pipeline(StandardScaler(), RidgeClassifier()),\n",
        "    'rf':make_pipeline(StandardScaler(), RandomForestClassifier()),\n",
        "    'gb':make_pipeline(StandardScaler(), GradientBoostingClassifier()),\n",
        "}"
      ],
      "execution_count": null,
      "outputs": []
    },
    {
      "cell_type": "code",
      "metadata": {
        "id": "RIyKKV4j-Jop"
      },
      "source": [
        "\n",
        "fit_models = {}\n",
        "for algo, pipeline in pipelines.items():\n",
        "    model = pipeline.fit(X_train, y_train)\n",
        "    fit_models[algo] = model"
      ],
      "execution_count": null,
      "outputs": []
    },
    {
      "cell_type": "code",
      "metadata": {
        "id": "_0zlEDTK-L9A"
      },
      "source": [
        "fit_models"
      ],
      "execution_count": null,
      "outputs": []
    },
    {
      "cell_type": "code",
      "metadata": {
        "id": "JpKpym2b-OCG"
      },
      "source": [
        "fit_models['rc'].predict(X_test)"
      ],
      "execution_count": null,
      "outputs": []
    },
    {
      "cell_type": "markdown",
      "metadata": {
        "id": "8Uqsq9yA-R7a"
      },
      "source": [
        "### **3.3 Evaluate and Serialize Model¶**"
      ]
    },
    {
      "cell_type": "code",
      "metadata": {
        "id": "ITYv7ZBu-Ul-"
      },
      "source": [
        "from sklearn.metrics import accuracy_score # Accuracy metrics \n",
        "import pickle"
      ],
      "execution_count": null,
      "outputs": []
    },
    {
      "cell_type": "code",
      "metadata": {
        "id": "rClTd-Ig-WVX"
      },
      "source": [
        "for algo, model in fit_models.items():\n",
        "    yhat = model.predict(X_test)\n",
        "    print(algo, accuracy_score(y_test, yhat))\n"
      ],
      "execution_count": null,
      "outputs": []
    },
    {
      "cell_type": "code",
      "metadata": {
        "id": "EpCzxqDg-Xmf"
      },
      "source": [
        "fit_models['rf'].predict(X_test)"
      ],
      "execution_count": null,
      "outputs": []
    },
    {
      "cell_type": "code",
      "metadata": {
        "id": "ALqd_LuW-Y1a"
      },
      "source": [
        "y_test"
      ],
      "execution_count": null,
      "outputs": []
    },
    {
      "cell_type": "code",
      "metadata": {
        "id": "4Ylbq-3Y-aA9"
      },
      "source": [
        "with open('body_language.pkl', 'wb') as f:\n",
        "    pickle.dump(fit_models['rf'], f)"
      ],
      "execution_count": null,
      "outputs": []
    },
    {
      "cell_type": "markdown",
      "metadata": {
        "id": "EjAFtY8c-dat"
      },
      "source": [
        "## **4. Make Detections with Model**"
      ]
    },
    {
      "cell_type": "code",
      "metadata": {
        "id": "P5Lenk2p-gGl"
      },
      "source": [
        "with open('body_language.pkl', 'rb') as f:\n",
        "    model = pickle.load(f)"
      ],
      "execution_count": null,
      "outputs": []
    },
    {
      "cell_type": "code",
      "metadata": {
        "id": "3zwus9KJ-iu-"
      },
      "source": [
        "model"
      ],
      "execution_count": null,
      "outputs": []
    },
    {
      "cell_type": "code",
      "metadata": {
        "id": "fbpy1GBj-oeX"
      },
      "source": [
        "# start streaming video from webcam\n",
        "video_stream()\n",
        "\n",
        "# # label for video\n",
        "label_html = 'Capturing...' \n",
        "# initialze bounding box to empty\n",
        "bbox = ''\n",
        "count = 0 \n",
        "# image = '' \n",
        "\n",
        "#Intiate holistic model\n",
        "with mp_holistic.Holistic(min_detection_confidence=0.5, min_tracking_confidence=0.5) as holistic:\n",
        "  while True:\n",
        "      js_reply = video_frame(label_html, bbox )\n",
        "    \n",
        "      if not js_reply:\n",
        "       break\n",
        "\n",
        "      # convert JS response to OpenCV Image\n",
        "      img = js_to_image(js_reply[\"img\"])\n",
        "\n",
        "      #Recolour feed\n",
        "      image = cv2.cvtColor(img, cv2.COLOR_BGR2RGB)\n",
        "\n",
        "      #Make Detections\n",
        "      results = holistic.process(image)\n",
        "      print(results.face_landmarks)\n",
        "\n",
        "      #face_Landmarks, pose_Landmarks, left_Landmarks, right_Landmarks\n",
        "\n",
        "      #Recolor image back ot BGR for Rendering \n",
        "      image = cv2.cvtColor(img, cv2.COLOR_RGB2BGR)\n",
        "\n",
        "      #Draw Face landmarks \n",
        "      mp_drawing.draw_landmarks(image, results.face_landmarks, mp_holistic.FACE_CONNECTIONS)\n",
        "\n",
        "      #Right hand \n",
        "      mp_drawing.draw_landmarks(image, results.right_hand_landmarks, mp_holistic.HAND_CONNECTIONS)\n",
        "\n",
        "      #Left hand\n",
        "      mp_drawing.draw_landmarks(image, results.left_hand_landmarks, mp_holistic.HAND_CONNECTIONS)\n",
        "\n",
        "      # Pose Detections\n",
        "      mp_drawing.draw_landmarks(image, results.pose_landmarks, mp_holistic.POSE_CONNECTIONS)\n",
        "       \n",
        "      # Export coordinates\n",
        "      try:\n",
        "          # Extract Pose landmarks\n",
        "          pose = results.pose_landmarks.landmark\n",
        "          pose_row = list(np.array([[landmark.x, landmark.y, landmark.z, landmark.visibility] for landmark in pose]).flatten())\n",
        "          \n",
        "          # Extract Face landmarks\n",
        "          face = results.face_landmarks.landmark\n",
        "          face_row = list(np.array([[landmark.x, landmark.y, landmark.z, landmark.visibility] for landmark in face]).flatten())\n",
        "          \n",
        "          # Concate rows\n",
        "          row = pose_row+face_row\n",
        "          \n",
        "#             # Append class name \n",
        "#             row.insert(0, class_name)\n",
        "          \n",
        "#             # Export to CSV\n",
        "#             with open('coords.csv', mode='a', newline='') as f:\n",
        "#                 csv_writer = csv.writer(f, delimiter=',', quotechar='\"', quoting=csv.QUOTE_MINIMAL)\n",
        "#                 csv_writer.writerow(row) \n",
        "\n",
        "          # Make Detections\n",
        "          X = pd.DataFrame([row])\n",
        "          body_language_class = model.predict(X)[0]\n",
        "          body_language_prob = model.predict_proba(X)[0]\n",
        "          print(body_language_class, body_language_prob)\n",
        "          \n",
        "          # Grab ear coords\n",
        "          coords = tuple(np.multiply(\n",
        "                          np.array(\n",
        "                              (results.pose_landmarks.landmark[mp_holistic.PoseLandmark.LEFT_EAR].x, \n",
        "                                results.pose_landmarks.landmark[mp_holistic.PoseLandmark.LEFT_EAR].y))\n",
        "                      , [640,480]).astype(int))\n",
        "          \n",
        "          cv2.rectangle(image, \n",
        "                        (coords[0], coords[1]+5), \n",
        "                        (coords[0]+len(body_language_class)*20, coords[1]-30), \n",
        "                        (245, 117, 16), -1)\n",
        "          cv2.putText(image, body_language_class, coords, \n",
        "                      cv2.FONT_HERSHEY_SIMPLEX, 1, (255, 255, 255), 2, cv2.LINE_AA)\n",
        "          \n",
        "          # Get status box\n",
        "          cv2.rectangle(image, (0,0), (250, 60), (245, 117, 16), -1)\n",
        "          \n",
        "          # Display Class\n",
        "          cv2.putText(image, 'CLASS'\n",
        "                      , (95,12), cv2.FONT_HERSHEY_SIMPLEX, 0.5, (0, 0, 0), 1, cv2.LINE_AA)\n",
        "          cv2.putText(image, body_language_class.split(' ')[0]\n",
        "                      , (90,40), cv2.FONT_HERSHEY_SIMPLEX, 1, (255, 255, 255), 2, cv2.LINE_AA)\n",
        "          \n",
        "          # Display Probability\n",
        "          cv2.putText(image, 'PROB'\n",
        "                      , (15,12), cv2.FONT_HERSHEY_SIMPLEX, 0.5, (0, 0, 0), 1, cv2.LINE_AA)\n",
        "          cv2.putText(image, str(round(body_language_prob[np.argmax(body_language_prob)],2))\n",
        "                      , (10,40), cv2.FONT_HERSHEY_SIMPLEX, 1, (255, 255, 255), 2, cv2.LINE_AA)\n",
        "          \n",
        "      except:\n",
        "          pass\n",
        "                        \n",
        "    \n",
        "\n",
        "           \n",
        "\n",
        "    \n",
        "      cv2_imshow(image)"
      ],
      "execution_count": null,
      "outputs": []
    },
    {
      "cell_type": "code",
      "metadata": {
        "id": "3upUm1Ba-kih"
      },
      "source": [
        "tuple(np.multiply(np.array((results.pose_landmarks.landmark[mp_holistic.PoseLandmark.LEFT_EAR].x, \n",
        "results.pose_landmarks.landmark[mp_holistic.PoseLandmark.LEFT_EAR].y)), [640,480]).astype(int))"
      ],
      "execution_count": null,
      "outputs": []
    }
  ]
}